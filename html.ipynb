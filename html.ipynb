{
 "cells": [
  {
   "cell_type": "markdown",
   "id": "9cd6386367815e83",
   "metadata": {
    "collapsed": false
   },
   "source": [
    "# Гана\n",
    "<span style=\"color:yellow; border:1px white solid\">238 533 км²</span><br>\n",
    "<span style=\"color:blue; border:1px white solid\">33 107 275 чел.</span><br>\n",
    "<span style=\"color:green; border:1px white solid\">унитарное государство</span><br>\n",
    "- Мохаммедом бен Абдаллахом\n",
    "- Джо де Графтом\n",
    "- Бедиако Асаре\n",
    "- Асаре Конаду<br>\n",
    "![Error](gana.jpg)<br>\n",
    "![Error](data:image/jpeg;base64,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)<br>\n",
    "[Гана](https://ru.wikipedia.org/wiki/%D0%93%D0%B0%D0%BD%D0%B0)<br>\n",
    "<svg>\n",
    "    <rect width=\"200\" height=\"50\" fill=\"red\" x=\"0\" y=\"0\"/>\n",
    "    <rect width=\"200\" height=\"50\" fill=\"yellow\" y=\"50\"/>\n",
    "    <polygon points=\"100,50 120,100 75,65 125,65 80,100\" fill=\"black\" />\n",
    "    <rect width=\"200\" height=\"50\" fill=\"green\" y=\"100\"/>  \n",
    "</svg>"
   ]
  },
  {
   "cell_type": "code",
   "execution_count": 5,
   "id": "initial_id",
   "metadata": {
    "ExecuteTime": {
     "end_time": "2023-10-24T14:35:46.033605300Z",
     "start_time": "2023-10-24T14:35:46.028083700Z"
    },
    "collapsed": true
   },
   "outputs": [],
   "source": [
    "def is_prime(num):\n",
    "    for i in range(2, num):\n",
    "        if (num % i) == 0:\n",
    "            return False\n",
    "    return True\n",
    "\n",
    "\n",
    "def get_prime(num):\n",
    "    if isinstance(num, str):\n",
    "        return \"Значення повино бути числом\"\n",
    "    if num == 2:\n",
    "        return 2\n",
    "    index = 1\n",
    "    res = 1\n",
    "    while index < num:\n",
    "        res += 2\n",
    "        if is_prime(res):\n",
    "            index += 1\n",
    "    return res"
   ]
  },
  {
   "cell_type": "code",
   "execution_count": 12,
   "id": "1c9ba317",
   "metadata": {},
   "outputs": [
    {
     "data": {
      "text/plain": [
       "1"
      ]
     },
     "execution_count": 12,
     "metadata": {},
     "output_type": "execute_result"
    }
   ],
   "source": [
    "get_prime(1)"
   ]
  },
  {
   "cell_type": "code",
   "execution_count": 11,
   "id": "6a81d7ca",
   "metadata": {},
   "outputs": [
    {
     "data": {
      "text/plain": [
       "2"
      ]
     },
     "execution_count": 11,
     "metadata": {},
     "output_type": "execute_result"
    }
   ],
   "source": [
    "get_prime(2)"
   ]
  },
  {
   "cell_type": "code",
   "execution_count": 10,
   "id": "9a458523",
   "metadata": {},
   "outputs": [
    {
     "data": {
      "text/plain": [
       "'Значення повино бути числом'"
      ]
     },
     "execution_count": 10,
     "metadata": {},
     "output_type": "execute_result"
    }
   ],
   "source": [
    "get_prime(\"Hello\")"
   ]
  }
 ],
 "metadata": {
  "kernelspec": {
   "display_name": "Python 3",
   "language": "python",
   "name": "python3"
  },
  "language_info": {
   "codemirror_mode": {
    "name": "ipython",
    "version": 3
   },
   "file_extension": ".py",
   "mimetype": "text/x-python",
   "name": "python",
   "nbconvert_exporter": "python",
   "pygments_lexer": "ipython3",
   "version": "3.11.5"
  }
 },
 "nbformat": 4,
 "nbformat_minor": 5
}
